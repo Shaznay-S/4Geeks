{
 "cells": [
  {
   "cell_type": "markdown",
   "id": "72bb890e",
   "metadata": {},
   "source": [
    "## Excuse Generator Using Flask and OpenAI GPT API\n",
    "\n",
    "This notebook walks through the creation of an excuse generator web application using Flask for the backend and HTML, CSS, and JavaScript for the frontend. The backend is integrated with the OpenAI GPT API to generate excuses."
   ]
  },
  {
   "cell_type": "markdown",
   "id": "ebc4449e",
   "metadata": {},
   "source": [
    "### Backend: Flask Application in Python\n",
    "\n",
    "The Flask application serves as the backend for our excuse generator. It exposes an API endpoint that, when called, fetches a generated excuse from the OpenAI GPT API."
   ]
  },
  {
   "cell_type": "code",
   "execution_count": 1,
   "id": "0429d370",
   "metadata": {},
   "outputs": [
    {
     "name": "stdout",
     "output_type": "stream",
     "text": [
      " * Serving Flask app '__main__'\n",
      " * Debug mode: on\n"
     ]
    },
    {
     "name": "stderr",
     "output_type": "stream",
     "text": [
      "\u001b[31m\u001b[1mWARNING: This is a development server. Do not use it in a production deployment. Use a production WSGI server instead.\u001b[0m\n",
      " * Running on http://127.0.0.1:5000\n",
      "\u001b[33mPress CTRL+C to quit\u001b[0m\n",
      " * Restarting with stat\n",
      "0.00s - Debugger warning: It seems that frozen modules are being used, which may\n",
      "0.00s - make the debugger miss breakpoints. Please pass -Xfrozen_modules=off\n",
      "0.00s - to python to disable frozen modules.\n",
      "0.00s - Note: Debugging will proceed. Set PYDEVD_DISABLE_FILE_VALIDATION=1 to disable this validation.\n",
      "Traceback (most recent call last):\n",
      "  File \"<frozen runpy>\", line 198, in _run_module_as_main\n",
      "  File \"<frozen runpy>\", line 88, in _run_code\n",
      "  File \"/usr/local/lib/python3.11/site-packages/ipykernel_launcher.py\", line 17, in <module>\n",
      "    app.launch_new_instance()\n",
      "  File \"/usr/local/lib/python3.11/site-packages/traitlets/config/application.py\", line 1045, in launch_instance\n",
      "    app.initialize(argv)\n",
      "  File \"/usr/local/lib/python3.11/site-packages/traitlets/config/application.py\", line 113, in inner\n",
      "    return method(app, *args, **kwargs)\n",
      "           ^^^^^^^^^^^^^^^^^^^^^^^^^^^^\n",
      "  File \"/usr/local/lib/python3.11/site-packages/ipykernel/kernelapp.py\", line 689, in initialize\n",
      "    self.init_sockets()\n",
      "  File \"/usr/local/lib/python3.11/site-packages/ipykernel/kernelapp.py\", line 328, in init_sockets\n",
      "    self.shell_port = self._bind_socket(self.shell_socket, self.shell_port)\n",
      "                      ^^^^^^^^^^^^^^^^^^^^^^^^^^^^^^^^^^^^^^^^^^^^^^^^^^^^^\n",
      "  File \"/usr/local/lib/python3.11/site-packages/ipykernel/kernelapp.py\", line 252, in _bind_socket\n",
      "    return self._try_bind_socket(s, port)\n",
      "           ^^^^^^^^^^^^^^^^^^^^^^^^^^^^^^\n",
      "  File \"/usr/local/lib/python3.11/site-packages/ipykernel/kernelapp.py\", line 228, in _try_bind_socket\n",
      "    s.bind(\"tcp://%s:%i\" % (self.ip, port))\n",
      "  File \"/usr/local/lib/python3.11/site-packages/zmq/sugar/socket.py\", line 302, in bind\n",
      "    super().bind(addr)\n",
      "  File \"zmq/backend/cython/socket.pyx\", line 564, in zmq.backend.cython.socket.Socket.bind\n",
      "  File \"zmq/backend/cython/checkrc.pxd\", line 28, in zmq.backend.cython.checkrc._check_rc\n",
      "zmq.error.ZMQError: Address already in use (addr='tcp://127.0.0.1:9007')\n"
     ]
    },
    {
     "ename": "SystemExit",
     "evalue": "1",
     "output_type": "error",
     "traceback": [
      "An exception has occurred, use %tb to see the full traceback.\n",
      "\u001b[0;31mSystemExit\u001b[0m\u001b[0;31m:\u001b[0m 1\n"
     ]
    },
    {
     "name": "stderr",
     "output_type": "stream",
     "text": [
      "/usr/local/lib/python3.11/site-packages/IPython/core/interactiveshell.py:3534: UserWarning: To exit: use 'exit', 'quit', or Ctrl-D.\n",
      "  warn(\"To exit: use 'exit', 'quit', or Ctrl-D.\", stacklevel=1)\n"
     ]
    }
   ],
   "source": [
    "\n",
    "# Install required Python packages (uncomment to install)\n",
    "# !pip install Flask python-dotenv openai\n",
    "\n",
    "# Sample Flask application code\n",
    "from flask import Flask, jsonify\n",
    "import openai\n",
    "import os\n",
    "from dotenv import load_dotenv\n",
    "\n",
    "# Load environment variables from .env file\n",
    "load_dotenv()\n",
    "\n",
    "app = Flask(__name__)\n",
    "\n",
    "# Read OpenAI API key from environment variable\n",
    "openai.api_key = os.getenv('OPENAI_API_KEY')\n",
    "\n",
    "@app.route('/generate_excuse', methods=['GET'])\n",
    "def generate_excuse():\n",
    "    response = openai.Completion.create(\n",
    "      engine=\"text-davinci-002\",\n",
    "      prompt=\"Generate an excuse for being late.\",\n",
    "      max_tokens=60\n",
    "    )\n",
    "    excuse = response.choices[0].text.strip()\n",
    "    return jsonify({\"excuse\": excuse})\n",
    "\n",
    "if __name__ == '__main__':\n",
    "    app.run(debug=True)\n",
    "    "
   ]
  },
  {
   "cell_type": "markdown",
   "id": "dd725f6c",
   "metadata": {},
   "source": [
    "### Frontend: HTML, CSS, and JavaScript\n",
    "\n",
    "The frontend is built using HTML for structure, CSS for styling, and JavaScript for interactivity. JavaScript is used to fetch the excuse generated by the backend."
   ]
  },
  {
   "cell_type": "code",
   "execution_count": null,
   "id": "8c7b23a9",
   "metadata": {},
   "outputs": [],
   "source": [
    "\n",
    "%%javascript\n",
    "// Sample JavaScript code to fetch excuse from Flask backend\n",
    "\n",
    "document.getElementById('generate-excuse').addEventListener('click', function() {\n",
    "  fetch('/generate_excuse', {\n",
    "    method: 'GET'\n",
    "  })\n",
    "  .then(response => response.json())\n",
    "  .then(data => {\n",
    "    document.getElementById('excuse').innerText = data.excuse;\n",
    "  });\n",
    "});\n",
    "    "
   ]
  },
  {
   "cell_type": "markdown",
   "id": "fcf7b27c",
   "metadata": {},
   "source": [
    "### Running the Application\n",
    "\n",
    "1. Run the Flask application (`app.py`) to start the backend server.\n",
    "2. Open `index.html` in a web browser to access the frontend.\n",
    "\n",
    "Clicking the \"Generate Excuse\" button on the frontend will trigger a call to the backend, which in turn fetches a generated excuse from the OpenAI GPT API and displays it on the frontend."
   ]
  }
 ],
 "metadata": {
  "kernelspec": {
   "display_name": "Python 3",
   "language": "python",
   "name": "python3"
  },
  "language_info": {
   "codemirror_mode": {
    "name": "ipython",
    "version": 3
   },
   "file_extension": ".py",
   "mimetype": "text/x-python",
   "name": "python",
   "nbconvert_exporter": "python",
   "pygments_lexer": "ipython3",
   "version": "3.11.5"
  }
 },
 "nbformat": 4,
 "nbformat_minor": 5
}
